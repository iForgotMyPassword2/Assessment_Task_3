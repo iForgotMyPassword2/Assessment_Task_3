{
 "cells": [
  {
   "attachments": {},
   "cell_type": "markdown",
   "metadata": {},
   "source": [
    "Design Brief: 'How does population density in an australian suburb impact public transport usage and car ownership, and can density and transit oriented development be utilised to minimise gridlock from an urban planning perspective?'\n",
    "\n",
    "To conduct this research, I will be utilising both online and real world examples to understand how density impacts urban planning decisions. This will involve interviewing friends and family who live in specific suburbs in Sydney and the central coast, as well as researching densities, car ownership rates, and even public transport patronage in other suburbs around Australia in cities such as Melbourne, Brisbane and perth. \n",
    "\n",
    "Hypothesis: population density will positively impact public tranpsort usage and cause a reduction in car ownership in the suburbs of Australia by creating more viable options for transport for an increased number of people. Transit oriented development can be utilised to minimise gridlock by centering urban developments around public transport hubs for accessibility."
   ]
  }
 ],
 "metadata": {
  "language_info": {
   "name": "python"
  },
  "orig_nbformat": 4
 },
 "nbformat": 4,
 "nbformat_minor": 2
}
