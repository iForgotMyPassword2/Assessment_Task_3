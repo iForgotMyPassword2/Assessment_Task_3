{
 "cells": [
  {
   "attachments": {},
   "cell_type": "markdown",
   "metadata": {},
   "source": [
    "\n",
    "# Design Brief and Hypothesis\n",
    "\n",
    "## Design Brief \n",
    "### 'How does population density affect public transport usage and car ownership in Australian suburbs?'\n",
    "\n",
    "To conduct this research, I will be utilising both online and real world examples to understand how density impacts urban planning decisions. This will involve interviewing friends and family who live in specific suburbs in Sydney and the central coast, as well as researching densities, car ownership rates, and even public transport patronage in other suburbs around Australia in cities such as Melbourne, Brisbane and perth. \n",
    "\n",
    "## Hypothesis\n",
    "population density will positively impact public tranpsort usage and cause a reduction in car ownership in the suburbs of Australia by creating more viable options for transport for an increased number of people. Transit oriented development can be utilised to minimise gridlock by centering urban developments around public transport hubs for accessibility."
   ]
  },
  {
   "attachments": {},
   "cell_type": "markdown",
   "metadata": {},
   "source": [
    "## Requirements Outline\n",
    "\n",
    "### Functional Requirements \n",
    "- Data loading: Should have the ability to open different files and manage errors within files that are unable to be opened by the user. It should allow for a seamless working of the system and no systematic faults that could cause issues to the system flow.\n",
    "\n",
    "- Data cleaning: The system will require filtering of information to allow for a more seamless way to understand the given information.\n",
    "For example, when displaying train patronage charts from NSW train stations, the list will be organised to be able filter out stations with limited data, as well as stations with too low patronage or even clear outliers.\n",
    "\n",
    "- Data analysis: In order to have clear informational requirements, the mode, median and average will be utilised throughout the program.\n",
    "This could be used, for example, in a document with everyone's sentiment towards public transport. The average scores could be used to\n",
    "display information about the general sentiment in certain areas. The median scores could show the most common response, and the user should be able to interact\n",
    " with the function to go into\n",
    "further detail on the topic.\n",
    "\n",
    "- Data visualisation: to visualise data, form graphs or create interactive environmnents for the user, I will be utilising matplotlib chart types for their ease of use and general aesthetic qualities that put it above pandas and GUIs.\n",
    "\n",
    "- Data reporting: The program will fetch information from a range of text types such as Txts, md files, and csv files. To output information, most of it will be done within the interface using matplotlib charts. Furthermore, it is possible to link the programming to other files, such as the csv and text files.\n",
    "\n",
    "### Non-Functional Requirements\n",
    "- Usability: The program should have a user friendly interface that is easy to use and still interactive. Furthermore, it should be able to handle errors from the user.\n",
    "\n",
    "- Reliability: The program should be as reliable as possible, fetching the right information from the right files, organising the information correctly for the user to see\n",
    "and even filtering out possible outliers within the research side of the project.\n",
    "\n",
    "### Use case:\n",
    "- Actor:\n",
    "\n",
    "- Goal: user looking for informatin about the topic, should be able to interact with the UI and should be able to manipulate datasets based on their liking.\n",
    "\n",
    "#### Preconditions:\n",
    "- The dataset has already been loaded in by the administrator and has been fully rendered. Furthermore, the User is able to run the program with all files fully active.\n",
    "- The user has access to the system interface and is able to run the program with no issues regarding the programming.\n",
    "\n",
    "### Main Flow:\n",
    "1. User opens interface\n",
    "2. User is given information about thesis question\n",
    "3. User is able to continue, and view data\n",
    " - Each dataset should be able to be manipulated to the user's liking\n",
    "4. After data is shown, a conclusion is made\n",
    "5. Thesis question is answered\n",
    "\n",
    "#### Post conditions:"
   ]
  },
  {
   "attachments": {},
   "cell_type": "markdown",
   "metadata": {},
   "source": [
    "## Planning stages:\n",
    "# "
   ]
  }
 ],
 "metadata": {
  "language_info": {
   "name": "python"
  },
  "orig_nbformat": 4
 },
 "nbformat": 4,
 "nbformat_minor": 2
}
