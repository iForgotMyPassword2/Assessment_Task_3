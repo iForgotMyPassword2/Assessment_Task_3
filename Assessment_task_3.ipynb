{
 "cells": [
  {
   "attachments": {},
   "cell_type": "markdown",
   "metadata": {},
   "source": [
    "\n",
    "# Design Brief and Hypothesis\n",
    "\n",
    "## Design Brief \n",
    "### 'How does population density affect public transport usage and car ownership in Australian suburbs?'\n",
    "\n",
    "To conduct this research, I will be utilising both online and real world examples to understand how density impacts urban planning decisions. This will involve interviewing friends and family who live in specific suburbs in Sydney and the central coast, as well as researching densities, car ownership rates, and even public transport patronage in other suburbs around Australia in cities such as Melbourne, Brisbane and perth. \n",
    "\n",
    "## Hypothesis\n",
    "population density will positively impact public tranpsort usage and cause a reduction in car ownership in the suburbs of Australia by creating more viable options for transport for an increased number of people. Transit oriented development can be utilised to minimise gridlock by centering urban developments around public transport hubs for accessibility."
   ]
  },
  {
   "attachments": {},
   "cell_type": "markdown",
   "metadata": {},
   "source": [
    "## Requirements Outline\n",
    "\n",
    "### Functional Requirements \n",
    "- Inform users about final result, analyse data, provide users with information, and allow users to interact with data\n",
    "- Create an article that is easy to read, interactive, well organised and contains data that can be easily manipulated.\n",
    "- Should be able to handle errors on the user input and create a forgiving UI that is able to fetch data easily\n",
    "- Should be able to handle users queries and have a wide variety of options for manipulating data, and allowing the viewer to focus on set data types.\n",
    "\n",
    "\n",
    "### Non-Functional Requirements\n",
    "- Should be able to gather data from large datasets within at most 2 seconds\n",
    "- Should be relatively secure and include software that accounts for user errors\n",
    "- Creates a high standard for aesthetics, user interface and performance"
   ]
  }
 ],
 "metadata": {
  "language_info": {
   "name": "python"
  },
  "orig_nbformat": 4
 },
 "nbformat": 4,
 "nbformat_minor": 2
}
